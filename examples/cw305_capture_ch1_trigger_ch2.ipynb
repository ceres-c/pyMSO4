{
 "cells": [
  {
   "cell_type": "code",
   "execution_count": 1,
   "metadata": {},
   "outputs": [],
   "source": [
    "import pyMSO4\n",
    "\n",
    "import time\n",
    "from tqdm.notebook import tqdm\n",
    "\n",
    "import matplotlib.pyplot as plt\n",
    "import pyvisa as visa\n",
    "import chipwhisperer as cw\n",
    "\n",
    "TIMEOUT = 2000\n",
    "TIMEOUT_SHORT = 200 # Used when running the acquisition loop and don't want to waste time on a missed trigger\n",
    "SCOPE_ADDR = \"192.168.1.140\"\n",
    "\n",
    "def prep(scope: pyMSO4.MSO4):\n",
    "\tscope.timeout = TIMEOUT\n",
    "\tscope.display = False # NOTE: if True, you need to increase TIMEOUT_SHORT above\n",
    "\n",
    "\t# Enable channels 1 and 2\n",
    "\tscope.ch_a_enable([True, True, False, False])\n",
    "\tscope.ch_a[1].scale = 0.01\n",
    "\tscope.ch_a[2].scale = 1\n",
    "\n",
    "\t# Set up horizontal settings (can also go in auto mode here and set the sample_rate only)\n",
    "\tscope.acq.horiz_mode = 'manual'\n",
    "\tscope.acq.horiz_sample_rate = 6.25e9 # 6.25 GS/s\n",
    "\tscope.acq.horiz_record_length = 12500 # 12,5 kS\n",
    "\tscope.acq.horiz_scale = 200e-9 # 200 ns\n",
    "\tscope.acq.horiz_pos = 10\n",
    "\n",
    "\t# Set up trigger\n",
    "\tscope.trigger.mode = 'normal'\n",
    "\tscope.trigger.source = 'CH2'\n",
    "\tscope.trigger.level = 1.4\n",
    "\tscope.trigger.edge_slope = 'rise'\n",
    "\n",
    "\t# Use default data acquisition settings\n",
    "\n",
    "\t# Set up the scope to output the entire waveform\n",
    "\twfm_len = 0\n",
    "\tfor _ in range(3): # Might take some persistence to get the scope to update Nr_Pt\n",
    "\t\tscope.acq.wfm_src = ['CH1']\n",
    "\t\tscope.acq.wfm_start = 1\n",
    "\t\tscope.acq.wfm_stop = 12500\n",
    "\t\t# Force a trigger to get the scope to update Nr_Pt and avoid cutting off future waveforms\n",
    "\t\t# While writing DATA above should be enough, it actually does not update the internal settings until a trace\n",
    "\t\t# is acquired. Too bad, these settings are NOT updated in CURVESTREAM mode, so in our case they'd never be changed.\n",
    "\t\tscope.trigger.force()\n",
    "\t\tif scope.acq.wfm_len == 12500:\n",
    "\t\t\tbreak\n",
    "\tassert scope.acq.wfm_len == 12500\n",
    "\tscope.clear_cmd()\n",
    "\n",
    "\tscope.acq.fast_acq = True\n",
    "\tscope.acq.mode = 'hires'\n"
   ]
  },
  {
   "cell_type": "code",
   "execution_count": 2,
   "metadata": {},
   "outputs": [],
   "source": [
    "# Connect to the scope\n",
    "mso44 = pyMSO4.MSO4(trig_type=pyMSO4.MSO4EdgeTrigger, debug=False)\n",
    "mso44.con(ip=SCOPE_ADDR)\n",
    "prep(mso44)\n",
    "\n",
    "# Configure the target\n",
    "# On the CW305, setting force=False only programs the FPGA if it is currently unprogrammed, whereas force=True programs the FPGA regardless.\n",
    "# This option isn't available on the CW312T_A35 or CW312T_ICE40.\n",
    "fpga_id = '100t'\n",
    "target = cw.target(None, cw.targets.CW305, force=True, fpga_id=fpga_id)\n",
    "\n",
    "# run at 10 MHz:\n",
    "target.pll.pll_outfreq_set(10E6, 1)"
   ]
  },
  {
   "cell_type": "markdown",
   "metadata": {},
   "source": [
    "# Finally acquire data from the scope"
   ]
  },
  {
   "cell_type": "code",
   "execution_count": 3,
   "metadata": {},
   "outputs": [
    {
     "name": "stdout",
     "output_type": "stream",
     "text": [
      "Scope configured\n"
     ]
    },
    {
     "ename": "NameError",
     "evalue": "name 'scope' is not defined",
     "output_type": "error",
     "traceback": [
      "\u001b[0;31m---------------------------------------------------------------------------\u001b[0m",
      "\u001b[0;31mNameError\u001b[0m                                 Traceback (most recent call last)",
      "Cell \u001b[0;32mIn[3], line 7\u001b[0m\n\u001b[1;32m      4\u001b[0m config_scope_new(mso4, display\u001b[38;5;241m=\u001b[39m\u001b[38;5;28;01mFalse\u001b[39;00m, high_res\u001b[38;5;241m=\u001b[39m\u001b[38;5;28;01mTrue\u001b[39;00m)\n\u001b[1;32m      5\u001b[0m \u001b[38;5;28mprint\u001b[39m(\u001b[38;5;124m\"\u001b[39m\u001b[38;5;124mScope configured\u001b[39m\u001b[38;5;124m\"\u001b[39m)\n\u001b[0;32m----> 7\u001b[0m wfm_byte_order \u001b[38;5;241m=\u001b[39m \u001b[43mscope\u001b[49m\u001b[38;5;241m.\u001b[39mquery(\u001b[38;5;124m\"\u001b[39m\u001b[38;5;124mWFMOutpre:BYT_Or?\u001b[39m\u001b[38;5;124m\"\u001b[39m)\u001b[38;5;241m.\u001b[39mstrip()\u001b[38;5;241m.\u001b[39mlower()\n\u001b[1;32m      8\u001b[0m wfm_byte_nr \u001b[38;5;241m=\u001b[39m \u001b[38;5;28mint\u001b[39m(scope\u001b[38;5;241m.\u001b[39mquery(\u001b[38;5;124m\"\u001b[39m\u001b[38;5;124mWFMOutpre:BYT_Nr?\u001b[39m\u001b[38;5;124m\"\u001b[39m)\u001b[38;5;241m.\u001b[39mstrip())\n\u001b[1;32m      9\u001b[0m wfm_byte_format \u001b[38;5;241m=\u001b[39m scope\u001b[38;5;241m.\u001b[39mquery(\u001b[38;5;124m\"\u001b[39m\u001b[38;5;124mWFMOutpre:Bn_Fmt?\u001b[39m\u001b[38;5;124m\"\u001b[39m)\u001b[38;5;241m.\u001b[39mstrip()\u001b[38;5;241m.\u001b[39mlower()\n",
      "\u001b[0;31mNameError\u001b[0m: name 'scope' is not defined"
     ]
    }
   ],
   "source": [
    "TRACES = 1000\n",
    "\n",
    "# Configure the scope\n",
    "prep(mso44)\n",
    "print(\"Scope configured\")\n",
    "\n",
    "# Enable curvestream\n",
    "mso44.acq.curvestream = True\n",
    "mso44.clear_buffers() # Good measure\n",
    "\n",
    "# Start acquisition\n",
    "traces = []\n",
    "mso44.timeout = TIMEOUT_SHORT\n",
    "start = time.time()\n",
    "for i in tqdm(range(TRACES)):\n",
    "\ttarget.simpleserial_write('p', b'\\x00' * 16)\n",
    "\tresponse = target.simpleserial_read('r', target.output_len, ack=True)\n",
    "\t# Decomment this to emulate a single missed trigger and see if the checks below work\n",
    "\t# if i != 32:\n",
    "\t#     target.simpleserial_write('p', b'\\x00' * 16)\n",
    "\t#     response = target.simpleserial_read('r', target.output_len, ack=True)\n",
    "\ttry:\n",
    "\t\t# NOTE calling get_datatype and reading is_big_endian will result in commands being sent\n",
    "\t\t# to the scope, which in turn will disable curvestream mode. This is fine because they\n",
    "\t\t# are cached after the first call, and the first acquisition always times out anyway (?)\n",
    "\t\ttrace = mso44.sc.read_binary_values(datatype=mso44.acq.get_datatype(), is_big_endian=mso44.acq.is_big_endian)\n",
    "\texcept visa.errors.VisaIOError as e:\n",
    "\t\tif e.error_code == visa.constants.VI_ERROR_TMO:\n",
    "\t\t\tprint(f\"Timeout occurred {i}\")\n",
    "\t\t\tmso44.clear_buffers()\n",
    "\t\t\tmso44.acq.curvestream = True\n",
    "\t\t\tcontinue\n",
    "\t\telse:\n",
    "\t\t\traise\n",
    "\tif traces and trace == traces[-1]:\n",
    "\t\t# This should never happen because the scope send buffer is always cleared on a read, but...\n",
    "\t\tprint(\"Duplicate trace detected\")\n",
    "\ttraces.append(trace)\n",
    "end = time.time()\n",
    "mso44.timeout = TIMEOUT # Reset timeout\n",
    "mso44.acq.curvestream = False\n",
    "print(f\"Captured {len(traces)} traces in {end - start} seconds\")\n",
    "\n",
    "# Cleanup\n",
    "mso44.dis()\n",
    "target.dis()"
   ]
  },
  {
   "cell_type": "code",
   "execution_count": null,
   "metadata": {},
   "outputs": [
    {
     "data": {
      "text/plain": [
       "<Figure size 1800x250 with 0 Axes>"
      ]
     },
     "metadata": {},
     "output_type": "display_data"
    }
   ],
   "source": [
    "plt.figure(1, figsize=(18, 2.5)) # Make it look similar to the scope\n",
    "for trace in traces:\n",
    "\tplt.plot(trace, linewidth=.5, markersize=5)\n",
    "# plt.plot(traces[0], linewidth=.5, markersize=5)"
   ]
  }
 ],
 "metadata": {
  "kernelspec": {
   "display_name": "cw-devel",
   "language": "python",
   "name": "python3"
  },
  "language_info": {
   "codemirror_mode": {
    "name": "ipython",
    "version": 3
   },
   "file_extension": ".py",
   "mimetype": "text/x-python",
   "name": "python",
   "nbconvert_exporter": "python",
   "pygments_lexer": "ipython3",
   "version": "3.11.6"
  }
 },
 "nbformat": 4,
 "nbformat_minor": 2
}
