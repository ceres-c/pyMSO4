{
 "cells": [
  {
   "cell_type": "markdown",
   "metadata": {},
   "source": [
    "# pyMSO4 example 0\n",
    "Using p2p Ethernet and probe compensation square wave"
   ]
  },
  {
   "cell_type": "markdown",
   "metadata": {},
   "source": [
    "## Scope configuration\n",
    "- Connect a probe to channel 1\n",
    "- Connect the probe to the compensation square wave output (right side of the\n",
    "scope)\n",
    "- Press \"Autoset\" to configure the scope\n",
    "- Connect the scope to the computer using an Ethernet cable (see manual)"
   ]
  },
  {
   "cell_type": "markdown",
   "metadata": {},
   "source": [
    "## First steps with pyMSO4\n",
    "Connect to the scope and get the device information"
   ]
  },
  {
   "cell_type": "code",
   "execution_count": 9,
   "metadata": {},
   "outputs": [
    {
     "data": {
      "text/plain": [
       "{'vendor': 'TEKTRONIX',\n",
       " 'model': 'MSO44',\n",
       " 'serial': 'C019654',\n",
       " 'firmware': 'CF:91.1CT FV:2.0.3.950\\n'}"
      ]
     },
     "execution_count": 9,
     "metadata": {},
     "output_type": "execute_result"
    }
   ],
   "source": [
    "import pyMSO4\n",
    "mso44 = pyMSO4.MSO4(trig_type=pyMSO4.MSO4EdgeTrigger)\n",
    "mso44.con(ip=\"128.181.240.130\") # Using p2p ethernet connection, change with your IP if using a switch\n",
    "mso44._id_scope()"
   ]
  },
  {
   "cell_type": "markdown",
   "metadata": {},
   "source": [
    "## Read current settings\n",
    "![Autoset](img/ex0_0.png)"
   ]
  },
  {
   "cell_type": "code",
   "execution_count": 10,
   "metadata": {},
   "outputs": [
    {
     "name": "stdout",
     "output_type": "stream",
     "text": [
      "Enabled channels [True, False, False, False]\n",
      "Horizontal scale 0.0004 s/div\n",
      "Trigger level 1.2544 V\n",
      "Trigger type EDGE\n",
      "Trigger channel CH1\n",
      "Edge trigger slope RISE\n"
     ]
    }
   ],
   "source": [
    "print('Enabled channels', [c.enable for c in mso44.ch_a[1:]]) # Channels are 1-indexed\n",
    "print('Horizontal scale', mso44.acq.horiz_scale, 's/div')\n",
    "print('Trigger level', mso44.trigger.level, 'V')\n",
    "print('Trigger type', mso44.trigger._type)\n",
    "print('Trigger channel', mso44.trigger.source)\n",
    "print('Edge trigger slope', mso44.trigger.edge_slope)"
   ]
  },
  {
   "cell_type": "markdown",
   "metadata": {},
   "source": [
    "## Change settings"
   ]
  },
  {
   "cell_type": "code",
   "execution_count": 11,
   "metadata": {},
   "outputs": [
    {
     "name": "stdout",
     "output_type": "stream",
     "text": [
      "Enabled channels [True, True, False, False]\n"
     ]
    }
   ],
   "source": [
    "mso44.ch_a_enable([True, True, False, False]) # Enable channel 1 and 2\n",
    "print('Enabled channels', [c.enable for c in mso44.ch_a[1:]])"
   ]
  },
  {
   "cell_type": "markdown",
   "metadata": {},
   "source": [
    "We now have 2 channels enabled\n",
    "![Enable channel 2](img/ex0_1.png)"
   ]
  },
  {
   "cell_type": "code",
   "execution_count": 12,
   "metadata": {},
   "outputs": [
    {
     "name": "stdout",
     "output_type": "stream",
     "text": [
      "Enabled channels [True, False, False, False]\n"
     ]
    }
   ],
   "source": [
    "mso44.ch_a[2].enable = False # Disable channel 2\n",
    "print('Enabled channels', [c.enable for c in mso44.ch_a[1:]])\n",
    "mso44.acq.horiz_scale = 2e-4 # Set horizontal scale to 200us/div"
   ]
  },
  {
   "cell_type": "markdown",
   "metadata": {},
   "source": [
    "Now the signal is more zoomed in\n",
    "![Reduce the timebase](img/ex0_2.png)"
   ]
  },
  {
   "cell_type": "code",
   "execution_count": 13,
   "metadata": {},
   "outputs": [],
   "source": [
    "mso44.acq.mode = 'hires' # Enable high resolution mode, notice the resolution on the screen"
   ]
  },
  {
   "cell_type": "markdown",
   "metadata": {},
   "source": [
    "Notice that the signal is now more detailed\n",
    "![Set high resolution mode](img/ex0_3.png)"
   ]
  },
  {
   "cell_type": "markdown",
   "metadata": {},
   "source": [
    "## Acquire a waveform"
   ]
  },
  {
   "cell_type": "code",
   "execution_count": 14,
   "metadata": {},
   "outputs": [],
   "source": [
    "mso44.acq.wfm_src = ['ch1'] # Set waveform source to channel 1\n",
    "mso44.acq.wfm_start = 0\n",
    "mso44.acq.wfm_stop = mso44.acq.horiz_record_length # Get all the data points as displayed on screen\n",
    "wfm = mso44.sc.query_binary_values('CURVE?', datatype=mso44.acq.get_datatype(), is_big_endian=mso44.acq.is_big_endian)"
   ]
  },
  {
   "cell_type": "markdown",
   "metadata": {},
   "source": [
    "## Plot"
   ]
  },
  {
   "cell_type": "code",
   "execution_count": 15,
   "metadata": {},
   "outputs": [
    {
     "data": {
      "text/plain": [
       "[<matplotlib.lines.Line2D at 0x7d23689e7510>]"
      ]
     },
     "execution_count": 15,
     "metadata": {},
     "output_type": "execute_result"
    },
    {
     "data": {
      "image/png": "[encoded data removed]",
      "text/plain": [
       "<Figure size 1200x400 with 1 Axes>"
      ]
     },
     "metadata": {},
     "output_type": "display_data"
    }
   ],
   "source": [
    "import matplotlib.pyplot as plt\n",
    "plt.rcParams[\"figure.figsize\"] = (12, 4)\n",
    "plt.plot(wfm, linewidth=.8)"
   ]
  },
  {
   "cell_type": "markdown",
   "metadata": {},
   "source": [
    "## Cleanup"
   ]
  },
  {
   "cell_type": "code",
   "execution_count": 16,
   "metadata": {},
   "outputs": [],
   "source": [
    "mso44.dis()"
   ]
  }
 ],
 "metadata": {
  "kernelspec": {
   "display_name": "venv",
   "language": "python",
   "name": "python3"
  },
  "language_info": {
   "codemirror_mode": {
    "name": "ipython",
    "version": 3
   },
   "file_extension": ".py",
   "mimetype": "text/x-python",
   "name": "python",
   "nbconvert_exporter": "python",
   "pygments_lexer": "ipython3",
   "version": "3.11.7"
  }
 },
 "nbformat": 4,
 "nbformat_minor": 2
}
